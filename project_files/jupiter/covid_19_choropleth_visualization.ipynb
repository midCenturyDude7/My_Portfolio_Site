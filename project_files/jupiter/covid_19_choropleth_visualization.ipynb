{
 "cells": [
  {
   "cell_type": "code",
   "execution_count": 1,
   "metadata": {},
   "outputs": [
    {
     "data": {
      "text/html": [
       "        <script type=\"text/javascript\">\n",
       "        window.PlotlyConfig = {MathJaxConfig: 'local'};\n",
       "        if (window.MathJax) {MathJax.Hub.Config({SVG: {font: \"STIX-Web\"}});}\n",
       "        if (typeof require !== 'undefined') {\n",
       "        require.undef(\"plotly\");\n",
       "        requirejs.config({\n",
       "            paths: {\n",
       "                'plotly': ['https://cdn.plot.ly/plotly-latest.min']\n",
       "            }\n",
       "        });\n",
       "        require(['plotly'], function(Plotly) {\n",
       "            window._Plotly = Plotly;\n",
       "        });\n",
       "        }\n",
       "        </script>\n",
       "        "
      ]
     },
     "metadata": {},
     "output_type": "display_data"
    }
   ],
   "source": [
    "# Import libraries\n",
    "import numpy as np \n",
    "import pandas as pd \n",
    "import plotly as py\n",
    "import plotly.express as px\n",
    "import plotly.graph_objs as go\n",
    "from plotly.subplots import make_subplots\n",
    "from plotly.offline import download_plotlyjs, init_notebook_mode, plot, iplot\n",
    "init_notebook_mode(connected=True)"
   ]
  },
  {
   "cell_type": "code",
   "execution_count": 2,
   "metadata": {},
   "outputs": [],
   "source": [
    "# Read data\n",
    "df = pd.read_csv(\"../data/covid_19_data.csv\")"
   ]
  },
  {
   "cell_type": "code",
   "execution_count": 3,
   "metadata": {},
   "outputs": [],
   "source": [
    "# Rename columns\n",
    "df = df.rename(columns={'Country/Region':'Country'})\n",
    "df = df.rename(columns={'ObservationDate':'Date'})"
   ]
  },
  {
   "cell_type": "code",
   "execution_count": 11,
   "metadata": {},
   "outputs": [],
   "source": [
    "# Manipulate Dataframe\n",
    "df_countries = df.groupby(['Country', 'Date']).sum().reset_index().sort_values('Date', ascending=False)\n",
    "df_countries = df_countries.drop_duplicates(subset = ['Country'])\n",
    "df_countries = df_countries[df_countries['Confirmed'] > 0]"
   ]
  },
  {
   "cell_type": "code",
   "execution_count": 12,
   "metadata": {},
   "outputs": [
    {
     "data": {
      "application/vnd.plotly.v1+json": {
       "config": {
        "plotlyServerURL": "https://plot.ly"
       },
       "data": [
        {
         "colorscale": [
          [
           0,
           "rgb(255,245,240)"
          ],
          [
           0.125,
           "rgb(254,224,210)"
          ],
          [
           0.25,
           "rgb(252,187,161)"
          ],
          [
           0.375,
           "rgb(252,146,114)"
          ],
          [
           0.5,
           "rgb(251,106,74)"
          ],
          [
           0.625,
           "rgb(239,59,44)"
          ],
          [
           0.75,
           "rgb(203,24,29)"
          ],
          [
           0.875,
           "rgb(165,15,21)"
          ],
          [
           1,
           "rgb(103,0,13)"
          ]
         ],
         "locationmode": "country names",
         "locations": [
          "Senegal",
          "Chad",
          "Guyana",
          "Spain",
          "Gambia",
          "Latvia",
          "Iran",
          "Djibouti",
          "Mainland China",
          "Lebanon",
          "Suriname",
          "Ethiopia",
          "Paraguay",
          "Philippines",
          "Brunei",
          "Singapore",
          "Saudi Arabia",
          "Lesotho",
          "Haiti",
          "Oman",
          "Mozambique",
          "Belgium",
          "Albania",
          "Fiji",
          "Gabon",
          "Seychelles",
          "Tunisia",
          "Somalia",
          "Slovakia",
          "Malawi",
          "Monaco",
          "Dominica",
          "Eswatini",
          "Moldova",
          "Malaysia",
          "Saint Vincent and the Grenadines",
          "Kyrgyzstan",
          "Azerbaijan",
          "Congo (Kinshasa)",
          "Niger",
          "Ireland",
          "Bahrain",
          "Laos",
          "Dominican Republic",
          "South Africa",
          "Bulgaria",
          "Costa Rica",
          "Rwanda",
          "San Marino",
          "Namibia",
          "Barbados",
          "Tajikistan",
          "Guinea-Bissau",
          "Iraq",
          "Canada",
          "Angola",
          "Yemen",
          "Tanzania",
          "Madagascar",
          "South Korea",
          "Cabo Verde",
          "Liechtenstein",
          "Morocco",
          "North Macedonia",
          "Finland",
          "Denmark",
          "Cyprus",
          "Uruguay",
          "Iceland",
          "Argentina",
          "Bangladesh",
          "Czech Republic",
          "Montenegro",
          "Syria",
          "Lithuania",
          "Luxembourg",
          "Thailand",
          "Hong Kong",
          "Bolivia",
          "Sweden",
          "Norway",
          "Belize",
          "Turkey",
          "Hungary",
          "Algeria",
          "Peru",
          "Austria",
          "MS Zaandam",
          "Nigeria",
          "Cambodia",
          "Indonesia",
          "Croatia",
          "Uzbekistan",
          "Holy See",
          "Andorra",
          "Ukraine",
          "Saint Lucia",
          "Honduras",
          "UK",
          "India",
          "Vietnam",
          "Liberia",
          "Cuba",
          "Russia",
          "South Sudan",
          "Australia",
          "Botswana",
          "Mongolia",
          "Macau",
          "Romania",
          "Libya",
          "Uganda",
          "Diamond Princess",
          "France",
          "Venezuela",
          "Sri Lanka",
          "Benin",
          "Qatar",
          "Central African Republic",
          "Kenya",
          "Germany",
          "New Zealand",
          "West Bank and Gaza",
          "Mexico",
          "Ivory Coast",
          "Saint Kitts and Nevis",
          "Slovenia",
          "Burundi",
          "Italy",
          "Malta",
          "Switzerland",
          "Nepal",
          "Burkina Faso",
          "Grenada",
          "Sao Tome and Principe",
          "Guatemala",
          "Brazil",
          "Zambia",
          "Taiwan",
          "Mali",
          "Antigua and Barbuda",
          "Pakistan",
          "Comoros",
          "Egypt",
          "Portugal",
          "Ghana",
          "Zimbabwe",
          "Netherlands",
          "Burma",
          "Japan",
          "Greece",
          "Panama",
          "Bhutan",
          "Mauritius",
          "El Salvador",
          "Equatorial Guinea",
          "Jordan",
          "Bahamas",
          "Western Sahara",
          "Belarus",
          "Togo",
          "Colombia",
          "Jamaica",
          "Eritrea",
          "Poland",
          "Mauritania",
          "Kazakhstan",
          "Cameroon",
          "Estonia",
          "Sudan",
          "Sierra Leone",
          "Serbia",
          "Georgia",
          "Bosnia and Herzegovina",
          "United Arab Emirates",
          "Armenia",
          "Guinea",
          "Papua New Guinea",
          "Ecuador",
          "Israel",
          "Timor-Leste",
          "Maldives",
          "Kuwait",
          "Kosovo",
          "Congo (Brazzaville)",
          "Chile",
          "Nicaragua",
          "Trinidad and Tobago",
          "Afghanistan",
          "US",
          "Others",
          "Mayotte",
          "Gambia, The",
          "Cape Verde",
          "French Guiana",
          "Bahamas, The",
          "Guadeloupe",
          "Martinique",
          "East Timor",
          "Reunion",
          "Aruba",
          "Curacao",
          "Cayman Islands",
          "Faroe Islands",
          "('St. Martin',)",
          "Channel Islands",
          "Gibraltar",
          "Saint Barthelemy",
          "Palestine",
          "St. Martin",
          "Vatican City",
          "Republic of Ireland",
          " Azerbaijan",
          "North Ireland"
         ],
         "marker": {
          "line": {
           "color": "black",
           "width": 0.5
          }
         },
         "type": "choropleth",
         "z": [
          4249,
          836,
          154,
          241310,
          26,
          1086,
          169425,
          4169,
          83036,
          1320,
          100,
          1934,
          1090,
          21340,
          141,
          37527,
          98869,
          4,
          3072,
          16016,
          409,
          59072,
          1232,
          18,
          3101,
          11,
          1087,
          2289,
          1528,
          409,
          99,
          18,
          322,
          9511,
          8303,
          26,
          1974,
          7239,
          3878,
          970,
          25183,
          14383,
          19,
          19195,
          45973,
          2711,
          1263,
          431,
          680,
          29,
          92,
          4453,
          1368,
          11098,
          96475,
          88,
          482,
          509,
          1026,
          11776,
          542,
          82,
          8151,
          2915,
          6964,
          12124,
          960,
          845,
          1806,
          22020,
          63026,
          9567,
          324,
          125,
          1705,
          4035,
          3104,
          1105,
          13358,
          43887,
          8531,
          19,
          169218,
          3990,
          10050,
          191758,
          16898,
          9,
          12233,
          125,
          30514,
          2247,
          4094,
          12,
          852,
          27101,
          19,
          6155,
          286294,
          246622,
          329,
          345,
          2173,
          458102,
          994,
          7259,
          40,
          193,
          45,
          20290,
          256,
          593,
          712,
          190759,
          2316,
          1814,
          261,
          67195,
          1570,
          2600,
          185450,
          1504,
          464,
          113619,
          3557,
          15,
          1484,
          83,
          234801,
          627,
          30956,
          3235,
          888,
          23,
          499,
          6792,
          672846,
          1089,
          443,
          1523,
          26,
          93983,
          141,
          32612,
          34351,
          9462,
          279,
          47541,
          240,
          17000,
          2980,
          16004,
          48,
          337,
          2934,
          1306,
          795,
          103,
          9,
          47751,
          487,
          36759,
          596,
          39,
          25986,
          947,
          12511,
          7599,
          1931,
          6081,
          946,
          11741,
          808,
          2606,
          38268,
          12364,
          4117,
          8,
          42728,
          17752,
          24,
          1901,
          31131,
          1142,
          683,
          127745,
          1118,
          117,
          19551,
          1920061,
          712,
          7,
          1,
          1,
          18,
          4,
          53,
          32,
          1,
          45,
          4,
          1,
          1,
          2,
          2,
          1,
          1,
          1,
          22,
          2,
          1,
          21,
          1,
          1
         ]
        }
       ],
       "layout": {
        "geo": {
         "projection": {
          "type": "equirectangular"
         },
         "showcoastlines": false,
         "showframe": false
        },
        "template": {
         "data": {
          "bar": [
           {
            "error_x": {
             "color": "#2a3f5f"
            },
            "error_y": {
             "color": "#2a3f5f"
            },
            "marker": {
             "line": {
              "color": "#E5ECF6",
              "width": 0.5
             }
            },
            "type": "bar"
           }
          ],
          "barpolar": [
           {
            "marker": {
             "line": {
              "color": "#E5ECF6",
              "width": 0.5
             }
            },
            "type": "barpolar"
           }
          ],
          "carpet": [
           {
            "aaxis": {
             "endlinecolor": "#2a3f5f",
             "gridcolor": "white",
             "linecolor": "white",
             "minorgridcolor": "white",
             "startlinecolor": "#2a3f5f"
            },
            "baxis": {
             "endlinecolor": "#2a3f5f",
             "gridcolor": "white",
             "linecolor": "white",
             "minorgridcolor": "white",
             "startlinecolor": "#2a3f5f"
            },
            "type": "carpet"
           }
          ],
          "choropleth": [
           {
            "colorbar": {
             "outlinewidth": 0,
             "ticks": ""
            },
            "type": "choropleth"
           }
          ],
          "contour": [
           {
            "colorbar": {
             "outlinewidth": 0,
             "ticks": ""
            },
            "colorscale": [
             [
              0,
              "#0d0887"
             ],
             [
              0.1111111111111111,
              "#46039f"
             ],
             [
              0.2222222222222222,
              "#7201a8"
             ],
             [
              0.3333333333333333,
              "#9c179e"
             ],
             [
              0.4444444444444444,
              "#bd3786"
             ],
             [
              0.5555555555555556,
              "#d8576b"
             ],
             [
              0.6666666666666666,
              "#ed7953"
             ],
             [
              0.7777777777777778,
              "#fb9f3a"
             ],
             [
              0.8888888888888888,
              "#fdca26"
             ],
             [
              1,
              "#f0f921"
             ]
            ],
            "type": "contour"
           }
          ],
          "contourcarpet": [
           {
            "colorbar": {
             "outlinewidth": 0,
             "ticks": ""
            },
            "type": "contourcarpet"
           }
          ],
          "heatmap": [
           {
            "colorbar": {
             "outlinewidth": 0,
             "ticks": ""
            },
            "colorscale": [
             [
              0,
              "#0d0887"
             ],
             [
              0.1111111111111111,
              "#46039f"
             ],
             [
              0.2222222222222222,
              "#7201a8"
             ],
             [
              0.3333333333333333,
              "#9c179e"
             ],
             [
              0.4444444444444444,
              "#bd3786"
             ],
             [
              0.5555555555555556,
              "#d8576b"
             ],
             [
              0.6666666666666666,
              "#ed7953"
             ],
             [
              0.7777777777777778,
              "#fb9f3a"
             ],
             [
              0.8888888888888888,
              "#fdca26"
             ],
             [
              1,
              "#f0f921"
             ]
            ],
            "type": "heatmap"
           }
          ],
          "heatmapgl": [
           {
            "colorbar": {
             "outlinewidth": 0,
             "ticks": ""
            },
            "colorscale": [
             [
              0,
              "#0d0887"
             ],
             [
              0.1111111111111111,
              "#46039f"
             ],
             [
              0.2222222222222222,
              "#7201a8"
             ],
             [
              0.3333333333333333,
              "#9c179e"
             ],
             [
              0.4444444444444444,
              "#bd3786"
             ],
             [
              0.5555555555555556,
              "#d8576b"
             ],
             [
              0.6666666666666666,
              "#ed7953"
             ],
             [
              0.7777777777777778,
              "#fb9f3a"
             ],
             [
              0.8888888888888888,
              "#fdca26"
             ],
             [
              1,
              "#f0f921"
             ]
            ],
            "type": "heatmapgl"
           }
          ],
          "histogram": [
           {
            "marker": {
             "colorbar": {
              "outlinewidth": 0,
              "ticks": ""
             }
            },
            "type": "histogram"
           }
          ],
          "histogram2d": [
           {
            "colorbar": {
             "outlinewidth": 0,
             "ticks": ""
            },
            "colorscale": [
             [
              0,
              "#0d0887"
             ],
             [
              0.1111111111111111,
              "#46039f"
             ],
             [
              0.2222222222222222,
              "#7201a8"
             ],
             [
              0.3333333333333333,
              "#9c179e"
             ],
             [
              0.4444444444444444,
              "#bd3786"
             ],
             [
              0.5555555555555556,
              "#d8576b"
             ],
             [
              0.6666666666666666,
              "#ed7953"
             ],
             [
              0.7777777777777778,
              "#fb9f3a"
             ],
             [
              0.8888888888888888,
              "#fdca26"
             ],
             [
              1,
              "#f0f921"
             ]
            ],
            "type": "histogram2d"
           }
          ],
          "histogram2dcontour": [
           {
            "colorbar": {
             "outlinewidth": 0,
             "ticks": ""
            },
            "colorscale": [
             [
              0,
              "#0d0887"
             ],
             [
              0.1111111111111111,
              "#46039f"
             ],
             [
              0.2222222222222222,
              "#7201a8"
             ],
             [
              0.3333333333333333,
              "#9c179e"
             ],
             [
              0.4444444444444444,
              "#bd3786"
             ],
             [
              0.5555555555555556,
              "#d8576b"
             ],
             [
              0.6666666666666666,
              "#ed7953"
             ],
             [
              0.7777777777777778,
              "#fb9f3a"
             ],
             [
              0.8888888888888888,
              "#fdca26"
             ],
             [
              1,
              "#f0f921"
             ]
            ],
            "type": "histogram2dcontour"
           }
          ],
          "mesh3d": [
           {
            "colorbar": {
             "outlinewidth": 0,
             "ticks": ""
            },
            "type": "mesh3d"
           }
          ],
          "parcoords": [
           {
            "line": {
             "colorbar": {
              "outlinewidth": 0,
              "ticks": ""
             }
            },
            "type": "parcoords"
           }
          ],
          "pie": [
           {
            "automargin": true,
            "type": "pie"
           }
          ],
          "scatter": [
           {
            "marker": {
             "colorbar": {
              "outlinewidth": 0,
              "ticks": ""
             }
            },
            "type": "scatter"
           }
          ],
          "scatter3d": [
           {
            "line": {
             "colorbar": {
              "outlinewidth": 0,
              "ticks": ""
             }
            },
            "marker": {
             "colorbar": {
              "outlinewidth": 0,
              "ticks": ""
             }
            },
            "type": "scatter3d"
           }
          ],
          "scattercarpet": [
           {
            "marker": {
             "colorbar": {
              "outlinewidth": 0,
              "ticks": ""
             }
            },
            "type": "scattercarpet"
           }
          ],
          "scattergeo": [
           {
            "marker": {
             "colorbar": {
              "outlinewidth": 0,
              "ticks": ""
             }
            },
            "type": "scattergeo"
           }
          ],
          "scattergl": [
           {
            "marker": {
             "colorbar": {
              "outlinewidth": 0,
              "ticks": ""
             }
            },
            "type": "scattergl"
           }
          ],
          "scattermapbox": [
           {
            "marker": {
             "colorbar": {
              "outlinewidth": 0,
              "ticks": ""
             }
            },
            "type": "scattermapbox"
           }
          ],
          "scatterpolar": [
           {
            "marker": {
             "colorbar": {
              "outlinewidth": 0,
              "ticks": ""
             }
            },
            "type": "scatterpolar"
           }
          ],
          "scatterpolargl": [
           {
            "marker": {
             "colorbar": {
              "outlinewidth": 0,
              "ticks": ""
             }
            },
            "type": "scatterpolargl"
           }
          ],
          "scatterternary": [
           {
            "marker": {
             "colorbar": {
              "outlinewidth": 0,
              "ticks": ""
             }
            },
            "type": "scatterternary"
           }
          ],
          "surface": [
           {
            "colorbar": {
             "outlinewidth": 0,
             "ticks": ""
            },
            "colorscale": [
             [
              0,
              "#0d0887"
             ],
             [
              0.1111111111111111,
              "#46039f"
             ],
             [
              0.2222222222222222,
              "#7201a8"
             ],
             [
              0.3333333333333333,
              "#9c179e"
             ],
             [
              0.4444444444444444,
              "#bd3786"
             ],
             [
              0.5555555555555556,
              "#d8576b"
             ],
             [
              0.6666666666666666,
              "#ed7953"
             ],
             [
              0.7777777777777778,
              "#fb9f3a"
             ],
             [
              0.8888888888888888,
              "#fdca26"
             ],
             [
              1,
              "#f0f921"
             ]
            ],
            "type": "surface"
           }
          ],
          "table": [
           {
            "cells": {
             "fill": {
              "color": "#EBF0F8"
             },
             "line": {
              "color": "white"
             }
            },
            "header": {
             "fill": {
              "color": "#C8D4E3"
             },
             "line": {
              "color": "white"
             }
            },
            "type": "table"
           }
          ]
         },
         "layout": {
          "annotationdefaults": {
           "arrowcolor": "#2a3f5f",
           "arrowhead": 0,
           "arrowwidth": 1
          },
          "coloraxis": {
           "colorbar": {
            "outlinewidth": 0,
            "ticks": ""
           }
          },
          "colorscale": {
           "diverging": [
            [
             0,
             "#8e0152"
            ],
            [
             0.1,
             "#c51b7d"
            ],
            [
             0.2,
             "#de77ae"
            ],
            [
             0.3,
             "#f1b6da"
            ],
            [
             0.4,
             "#fde0ef"
            ],
            [
             0.5,
             "#f7f7f7"
            ],
            [
             0.6,
             "#e6f5d0"
            ],
            [
             0.7,
             "#b8e186"
            ],
            [
             0.8,
             "#7fbc41"
            ],
            [
             0.9,
             "#4d9221"
            ],
            [
             1,
             "#276419"
            ]
           ],
           "sequential": [
            [
             0,
             "#0d0887"
            ],
            [
             0.1111111111111111,
             "#46039f"
            ],
            [
             0.2222222222222222,
             "#7201a8"
            ],
            [
             0.3333333333333333,
             "#9c179e"
            ],
            [
             0.4444444444444444,
             "#bd3786"
            ],
            [
             0.5555555555555556,
             "#d8576b"
            ],
            [
             0.6666666666666666,
             "#ed7953"
            ],
            [
             0.7777777777777778,
             "#fb9f3a"
            ],
            [
             0.8888888888888888,
             "#fdca26"
            ],
            [
             1,
             "#f0f921"
            ]
           ],
           "sequentialminus": [
            [
             0,
             "#0d0887"
            ],
            [
             0.1111111111111111,
             "#46039f"
            ],
            [
             0.2222222222222222,
             "#7201a8"
            ],
            [
             0.3333333333333333,
             "#9c179e"
            ],
            [
             0.4444444444444444,
             "#bd3786"
            ],
            [
             0.5555555555555556,
             "#d8576b"
            ],
            [
             0.6666666666666666,
             "#ed7953"
            ],
            [
             0.7777777777777778,
             "#fb9f3a"
            ],
            [
             0.8888888888888888,
             "#fdca26"
            ],
            [
             1,
             "#f0f921"
            ]
           ]
          },
          "colorway": [
           "#636efa",
           "#EF553B",
           "#00cc96",
           "#ab63fa",
           "#FFA15A",
           "#19d3f3",
           "#FF6692",
           "#B6E880",
           "#FF97FF",
           "#FECB52"
          ],
          "font": {
           "color": "#2a3f5f"
          },
          "geo": {
           "bgcolor": "white",
           "lakecolor": "white",
           "landcolor": "#E5ECF6",
           "showlakes": true,
           "showland": true,
           "subunitcolor": "white"
          },
          "hoverlabel": {
           "align": "left"
          },
          "hovermode": "closest",
          "mapbox": {
           "style": "light"
          },
          "paper_bgcolor": "white",
          "plot_bgcolor": "#E5ECF6",
          "polar": {
           "angularaxis": {
            "gridcolor": "white",
            "linecolor": "white",
            "ticks": ""
           },
           "bgcolor": "#E5ECF6",
           "radialaxis": {
            "gridcolor": "white",
            "linecolor": "white",
            "ticks": ""
           }
          },
          "scene": {
           "xaxis": {
            "backgroundcolor": "#E5ECF6",
            "gridcolor": "white",
            "gridwidth": 2,
            "linecolor": "white",
            "showbackground": true,
            "ticks": "",
            "zerolinecolor": "white"
           },
           "yaxis": {
            "backgroundcolor": "#E5ECF6",
            "gridcolor": "white",
            "gridwidth": 2,
            "linecolor": "white",
            "showbackground": true,
            "ticks": "",
            "zerolinecolor": "white"
           },
           "zaxis": {
            "backgroundcolor": "#E5ECF6",
            "gridcolor": "white",
            "gridwidth": 2,
            "linecolor": "white",
            "showbackground": true,
            "ticks": "",
            "zerolinecolor": "white"
           }
          },
          "shapedefaults": {
           "line": {
            "color": "#2a3f5f"
           }
          },
          "ternary": {
           "aaxis": {
            "gridcolor": "white",
            "linecolor": "white",
            "ticks": ""
           },
           "baxis": {
            "gridcolor": "white",
            "linecolor": "white",
            "ticks": ""
           },
           "bgcolor": "#E5ECF6",
           "caxis": {
            "gridcolor": "white",
            "linecolor": "white",
            "ticks": ""
           }
          },
          "title": {
           "x": 0.05
          },
          "xaxis": {
           "automargin": true,
           "gridcolor": "white",
           "linecolor": "white",
           "ticks": "",
           "title": {
            "standoff": 15
           },
           "zerolinecolor": "white",
           "zerolinewidth": 2
          },
          "yaxis": {
           "automargin": true,
           "gridcolor": "white",
           "linecolor": "white",
           "ticks": "",
           "title": {
            "standoff": 15
           },
           "zerolinecolor": "white",
           "zerolinewidth": 2
          }
         }
        },
        "title": {
         "text": "Confirmed Cases as of June 8, 2020",
         "x": 0.5
        }
       }
      },
      "text/html": [
       "<div>\n",
       "        \n",
       "        \n",
       "            <div id=\"e1148631-b0d7-45e0-95ea-4bc96ca3bf28\" class=\"plotly-graph-div\" style=\"height:525px; width:100%;\"></div>\n",
       "            <script type=\"text/javascript\">\n",
       "                require([\"plotly\"], function(Plotly) {\n",
       "                    window.PLOTLYENV=window.PLOTLYENV || {};\n",
       "                    \n",
       "                if (document.getElementById(\"e1148631-b0d7-45e0-95ea-4bc96ca3bf28\")) {\n",
       "                    Plotly.newPlot(\n",
       "                        'e1148631-b0d7-45e0-95ea-4bc96ca3bf28',\n",
       "                        [{\"colorscale\": [[0.0, \"rgb(255,245,240)\"], [0.125, \"rgb(254,224,210)\"], [0.25, \"rgb(252,187,161)\"], [0.375, \"rgb(252,146,114)\"], [0.5, \"rgb(251,106,74)\"], [0.625, \"rgb(239,59,44)\"], [0.75, \"rgb(203,24,29)\"], [0.875, \"rgb(165,15,21)\"], [1.0, \"rgb(103,0,13)\"]], \"locationmode\": \"country names\", \"locations\": [\"Senegal\", \"Chad\", \"Guyana\", \"Spain\", \"Gambia\", \"Latvia\", \"Iran\", \"Djibouti\", \"Mainland China\", \"Lebanon\", \"Suriname\", \"Ethiopia\", \"Paraguay\", \"Philippines\", \"Brunei\", \"Singapore\", \"Saudi Arabia\", \"Lesotho\", \"Haiti\", \"Oman\", \"Mozambique\", \"Belgium\", \"Albania\", \"Fiji\", \"Gabon\", \"Seychelles\", \"Tunisia\", \"Somalia\", \"Slovakia\", \"Malawi\", \"Monaco\", \"Dominica\", \"Eswatini\", \"Moldova\", \"Malaysia\", \"Saint Vincent and the Grenadines\", \"Kyrgyzstan\", \"Azerbaijan\", \"Congo (Kinshasa)\", \"Niger\", \"Ireland\", \"Bahrain\", \"Laos\", \"Dominican Republic\", \"South Africa\", \"Bulgaria\", \"Costa Rica\", \"Rwanda\", \"San Marino\", \"Namibia\", \"Barbados\", \"Tajikistan\", \"Guinea-Bissau\", \"Iraq\", \"Canada\", \"Angola\", \"Yemen\", \"Tanzania\", \"Madagascar\", \"South Korea\", \"Cabo Verde\", \"Liechtenstein\", \"Morocco\", \"North Macedonia\", \"Finland\", \"Denmark\", \"Cyprus\", \"Uruguay\", \"Iceland\", \"Argentina\", \"Bangladesh\", \"Czech Republic\", \"Montenegro\", \"Syria\", \"Lithuania\", \"Luxembourg\", \"Thailand\", \"Hong Kong\", \"Bolivia\", \"Sweden\", \"Norway\", \"Belize\", \"Turkey\", \"Hungary\", \"Algeria\", \"Peru\", \"Austria\", \"MS Zaandam\", \"Nigeria\", \"Cambodia\", \"Indonesia\", \"Croatia\", \"Uzbekistan\", \"Holy See\", \"Andorra\", \"Ukraine\", \"Saint Lucia\", \"Honduras\", \"UK\", \"India\", \"Vietnam\", \"Liberia\", \"Cuba\", \"Russia\", \"South Sudan\", \"Australia\", \"Botswana\", \"Mongolia\", \"Macau\", \"Romania\", \"Libya\", \"Uganda\", \"Diamond Princess\", \"France\", \"Venezuela\", \"Sri Lanka\", \"Benin\", \"Qatar\", \"Central African Republic\", \"Kenya\", \"Germany\", \"New Zealand\", \"West Bank and Gaza\", \"Mexico\", \"Ivory Coast\", \"Saint Kitts and Nevis\", \"Slovenia\", \"Burundi\", \"Italy\", \"Malta\", \"Switzerland\", \"Nepal\", \"Burkina Faso\", \"Grenada\", \"Sao Tome and Principe\", \"Guatemala\", \"Brazil\", \"Zambia\", \"Taiwan\", \"Mali\", \"Antigua and Barbuda\", \"Pakistan\", \"Comoros\", \"Egypt\", \"Portugal\", \"Ghana\", \"Zimbabwe\", \"Netherlands\", \"Burma\", \"Japan\", \"Greece\", \"Panama\", \"Bhutan\", \"Mauritius\", \"El Salvador\", \"Equatorial Guinea\", \"Jordan\", \"Bahamas\", \"Western Sahara\", \"Belarus\", \"Togo\", \"Colombia\", \"Jamaica\", \"Eritrea\", \"Poland\", \"Mauritania\", \"Kazakhstan\", \"Cameroon\", \"Estonia\", \"Sudan\", \"Sierra Leone\", \"Serbia\", \"Georgia\", \"Bosnia and Herzegovina\", \"United Arab Emirates\", \"Armenia\", \"Guinea\", \"Papua New Guinea\", \"Ecuador\", \"Israel\", \"Timor-Leste\", \"Maldives\", \"Kuwait\", \"Kosovo\", \"Congo (Brazzaville)\", \"Chile\", \"Nicaragua\", \"Trinidad and Tobago\", \"Afghanistan\", \"US\", \"Others\", \"Mayotte\", \"Gambia, The\", \"Cape Verde\", \"French Guiana\", \"Bahamas, The\", \"Guadeloupe\", \"Martinique\", \"East Timor\", \"Reunion\", \"Aruba\", \"Curacao\", \"Cayman Islands\", \"Faroe Islands\", \"('St. Martin',)\", \"Channel Islands\", \"Gibraltar\", \"Saint Barthelemy\", \"Palestine\", \"St. Martin\", \"Vatican City\", \"Republic of Ireland\", \" Azerbaijan\", \"North Ireland\"], \"marker\": {\"line\": {\"color\": \"black\", \"width\": 0.5}}, \"type\": \"choropleth\", \"z\": [4249.0, 836.0, 154.0, 241310.0, 26.0, 1086.0, 169425.0, 4169.0, 83036.0, 1320.0, 100.0, 1934.0, 1090.0, 21340.0, 141.0, 37527.0, 98869.0, 4.0, 3072.0, 16016.0, 409.0, 59072.0, 1232.0, 18.0, 3101.0, 11.0, 1087.0, 2289.0, 1528.0, 409.0, 99.0, 18.0, 322.0, 9511.0, 8303.0, 26.0, 1974.0, 7239.0, 3878.0, 970.0, 25183.0, 14383.0, 19.0, 19195.0, 45973.0, 2711.0, 1263.0, 431.0, 680.0, 29.0, 92.0, 4453.0, 1368.0, 11098.0, 96475.0, 88.0, 482.0, 509.0, 1026.0, 11776.0, 542.0, 82.0, 8151.0, 2915.0, 6964.0, 12124.0, 960.0, 845.0, 1806.0, 22020.0, 63026.0, 9567.0, 324.0, 125.0, 1705.0, 4035.0, 3104.0, 1105.0, 13358.0, 43887.0, 8531.0, 19.0, 169218.0, 3990.0, 10050.0, 191758.0, 16898.0, 9.0, 12233.0, 125.0, 30514.0, 2247.0, 4094.0, 12.0, 852.0, 27101.0, 19.0, 6155.0, 286294.0, 246622.0, 329.0, 345.0, 2173.0, 458102.0, 994.0, 7259.0, 40.0, 193.0, 45.0, 20290.0, 256.0, 593.0, 712.0, 190759.0, 2316.0, 1814.0, 261.0, 67195.0, 1570.0, 2600.0, 185450.0, 1504.0, 464.0, 113619.0, 3557.0, 15.0, 1484.0, 83.0, 234801.0, 627.0, 30956.0, 3235.0, 888.0, 23.0, 499.0, 6792.0, 672846.0, 1089.0, 443.0, 1523.0, 26.0, 93983.0, 141.0, 32612.0, 34351.0, 9462.0, 279.0, 47541.0, 240.0, 17000.0, 2980.0, 16004.0, 48.0, 337.0, 2934.0, 1306.0, 795.0, 103.0, 9.0, 47751.0, 487.0, 36759.0, 596.0, 39.0, 25986.0, 947.0, 12511.0, 7599.0, 1931.0, 6081.0, 946.0, 11741.0, 808.0, 2606.0, 38268.0, 12364.0, 4117.0, 8.0, 42728.0, 17752.0, 24.0, 1901.0, 31131.0, 1142.0, 683.0, 127745.0, 1118.0, 117.0, 19551.0, 1920061.0, 712.0, 7.0, 1.0, 1.0, 18.0, 4.0, 53.0, 32.0, 1.0, 45.0, 4.0, 1.0, 1.0, 2.0, 2.0, 1.0, 1.0, 1.0, 22.0, 2.0, 1.0, 21.0, 1.0, 1.0]}],\n",
       "                        {\"geo\": {\"projection\": {\"type\": \"equirectangular\"}, \"showcoastlines\": false, \"showframe\": false}, \"template\": {\"data\": {\"bar\": [{\"error_x\": {\"color\": \"#2a3f5f\"}, \"error_y\": {\"color\": \"#2a3f5f\"}, \"marker\": {\"line\": {\"color\": \"#E5ECF6\", \"width\": 0.5}}, \"type\": \"bar\"}], \"barpolar\": [{\"marker\": {\"line\": {\"color\": \"#E5ECF6\", \"width\": 0.5}}, \"type\": \"barpolar\"}], \"carpet\": [{\"aaxis\": {\"endlinecolor\": \"#2a3f5f\", \"gridcolor\": \"white\", \"linecolor\": \"white\", \"minorgridcolor\": \"white\", \"startlinecolor\": \"#2a3f5f\"}, \"baxis\": {\"endlinecolor\": \"#2a3f5f\", \"gridcolor\": \"white\", \"linecolor\": \"white\", \"minorgridcolor\": \"white\", \"startlinecolor\": \"#2a3f5f\"}, \"type\": \"carpet\"}], \"choropleth\": [{\"colorbar\": {\"outlinewidth\": 0, \"ticks\": \"\"}, \"type\": \"choropleth\"}], \"contour\": [{\"colorbar\": {\"outlinewidth\": 0, \"ticks\": \"\"}, \"colorscale\": [[0.0, \"#0d0887\"], [0.1111111111111111, \"#46039f\"], [0.2222222222222222, \"#7201a8\"], [0.3333333333333333, \"#9c179e\"], [0.4444444444444444, \"#bd3786\"], [0.5555555555555556, \"#d8576b\"], [0.6666666666666666, \"#ed7953\"], [0.7777777777777778, \"#fb9f3a\"], [0.8888888888888888, \"#fdca26\"], [1.0, \"#f0f921\"]], \"type\": \"contour\"}], \"contourcarpet\": [{\"colorbar\": {\"outlinewidth\": 0, \"ticks\": \"\"}, \"type\": \"contourcarpet\"}], \"heatmap\": [{\"colorbar\": {\"outlinewidth\": 0, \"ticks\": \"\"}, \"colorscale\": [[0.0, \"#0d0887\"], [0.1111111111111111, \"#46039f\"], [0.2222222222222222, \"#7201a8\"], [0.3333333333333333, \"#9c179e\"], [0.4444444444444444, \"#bd3786\"], [0.5555555555555556, \"#d8576b\"], [0.6666666666666666, \"#ed7953\"], [0.7777777777777778, \"#fb9f3a\"], [0.8888888888888888, \"#fdca26\"], [1.0, \"#f0f921\"]], \"type\": \"heatmap\"}], \"heatmapgl\": [{\"colorbar\": {\"outlinewidth\": 0, \"ticks\": \"\"}, \"colorscale\": [[0.0, \"#0d0887\"], [0.1111111111111111, \"#46039f\"], [0.2222222222222222, \"#7201a8\"], [0.3333333333333333, \"#9c179e\"], [0.4444444444444444, \"#bd3786\"], [0.5555555555555556, \"#d8576b\"], [0.6666666666666666, \"#ed7953\"], [0.7777777777777778, \"#fb9f3a\"], [0.8888888888888888, \"#fdca26\"], [1.0, \"#f0f921\"]], \"type\": \"heatmapgl\"}], \"histogram\": [{\"marker\": {\"colorbar\": {\"outlinewidth\": 0, \"ticks\": \"\"}}, \"type\": \"histogram\"}], \"histogram2d\": [{\"colorbar\": {\"outlinewidth\": 0, \"ticks\": \"\"}, \"colorscale\": [[0.0, \"#0d0887\"], [0.1111111111111111, \"#46039f\"], [0.2222222222222222, \"#7201a8\"], [0.3333333333333333, \"#9c179e\"], [0.4444444444444444, \"#bd3786\"], [0.5555555555555556, \"#d8576b\"], [0.6666666666666666, \"#ed7953\"], [0.7777777777777778, \"#fb9f3a\"], [0.8888888888888888, \"#fdca26\"], [1.0, \"#f0f921\"]], \"type\": \"histogram2d\"}], \"histogram2dcontour\": [{\"colorbar\": {\"outlinewidth\": 0, \"ticks\": \"\"}, \"colorscale\": [[0.0, \"#0d0887\"], [0.1111111111111111, \"#46039f\"], [0.2222222222222222, \"#7201a8\"], [0.3333333333333333, \"#9c179e\"], [0.4444444444444444, \"#bd3786\"], [0.5555555555555556, \"#d8576b\"], [0.6666666666666666, \"#ed7953\"], [0.7777777777777778, \"#fb9f3a\"], [0.8888888888888888, \"#fdca26\"], [1.0, \"#f0f921\"]], \"type\": \"histogram2dcontour\"}], \"mesh3d\": [{\"colorbar\": {\"outlinewidth\": 0, \"ticks\": \"\"}, \"type\": \"mesh3d\"}], \"parcoords\": [{\"line\": {\"colorbar\": {\"outlinewidth\": 0, \"ticks\": \"\"}}, \"type\": \"parcoords\"}], \"pie\": [{\"automargin\": true, \"type\": \"pie\"}], \"scatter\": [{\"marker\": {\"colorbar\": {\"outlinewidth\": 0, \"ticks\": \"\"}}, \"type\": \"scatter\"}], \"scatter3d\": [{\"line\": {\"colorbar\": {\"outlinewidth\": 0, \"ticks\": \"\"}}, \"marker\": {\"colorbar\": {\"outlinewidth\": 0, \"ticks\": \"\"}}, \"type\": \"scatter3d\"}], \"scattercarpet\": [{\"marker\": {\"colorbar\": {\"outlinewidth\": 0, \"ticks\": \"\"}}, \"type\": \"scattercarpet\"}], \"scattergeo\": [{\"marker\": {\"colorbar\": {\"outlinewidth\": 0, \"ticks\": \"\"}}, \"type\": \"scattergeo\"}], \"scattergl\": [{\"marker\": {\"colorbar\": {\"outlinewidth\": 0, \"ticks\": \"\"}}, \"type\": \"scattergl\"}], \"scattermapbox\": [{\"marker\": {\"colorbar\": {\"outlinewidth\": 0, \"ticks\": \"\"}}, \"type\": \"scattermapbox\"}], \"scatterpolar\": [{\"marker\": {\"colorbar\": {\"outlinewidth\": 0, \"ticks\": \"\"}}, \"type\": \"scatterpolar\"}], \"scatterpolargl\": [{\"marker\": {\"colorbar\": {\"outlinewidth\": 0, \"ticks\": \"\"}}, \"type\": \"scatterpolargl\"}], \"scatterternary\": [{\"marker\": {\"colorbar\": {\"outlinewidth\": 0, \"ticks\": \"\"}}, \"type\": \"scatterternary\"}], \"surface\": [{\"colorbar\": {\"outlinewidth\": 0, \"ticks\": \"\"}, \"colorscale\": [[0.0, \"#0d0887\"], [0.1111111111111111, \"#46039f\"], [0.2222222222222222, \"#7201a8\"], [0.3333333333333333, \"#9c179e\"], [0.4444444444444444, \"#bd3786\"], [0.5555555555555556, \"#d8576b\"], [0.6666666666666666, \"#ed7953\"], [0.7777777777777778, \"#fb9f3a\"], [0.8888888888888888, \"#fdca26\"], [1.0, \"#f0f921\"]], \"type\": \"surface\"}], \"table\": [{\"cells\": {\"fill\": {\"color\": \"#EBF0F8\"}, \"line\": {\"color\": \"white\"}}, \"header\": {\"fill\": {\"color\": \"#C8D4E3\"}, \"line\": {\"color\": \"white\"}}, \"type\": \"table\"}]}, \"layout\": {\"annotationdefaults\": {\"arrowcolor\": \"#2a3f5f\", \"arrowhead\": 0, \"arrowwidth\": 1}, \"coloraxis\": {\"colorbar\": {\"outlinewidth\": 0, \"ticks\": \"\"}}, \"colorscale\": {\"diverging\": [[0, \"#8e0152\"], [0.1, \"#c51b7d\"], [0.2, \"#de77ae\"], [0.3, \"#f1b6da\"], [0.4, \"#fde0ef\"], [0.5, \"#f7f7f7\"], [0.6, \"#e6f5d0\"], [0.7, \"#b8e186\"], [0.8, \"#7fbc41\"], [0.9, \"#4d9221\"], [1, \"#276419\"]], \"sequential\": [[0.0, \"#0d0887\"], [0.1111111111111111, \"#46039f\"], [0.2222222222222222, \"#7201a8\"], [0.3333333333333333, \"#9c179e\"], [0.4444444444444444, \"#bd3786\"], [0.5555555555555556, \"#d8576b\"], [0.6666666666666666, \"#ed7953\"], [0.7777777777777778, \"#fb9f3a\"], [0.8888888888888888, \"#fdca26\"], [1.0, \"#f0f921\"]], \"sequentialminus\": [[0.0, \"#0d0887\"], [0.1111111111111111, \"#46039f\"], [0.2222222222222222, \"#7201a8\"], [0.3333333333333333, \"#9c179e\"], [0.4444444444444444, \"#bd3786\"], [0.5555555555555556, \"#d8576b\"], [0.6666666666666666, \"#ed7953\"], [0.7777777777777778, \"#fb9f3a\"], [0.8888888888888888, \"#fdca26\"], [1.0, \"#f0f921\"]]}, \"colorway\": [\"#636efa\", \"#EF553B\", \"#00cc96\", \"#ab63fa\", \"#FFA15A\", \"#19d3f3\", \"#FF6692\", \"#B6E880\", \"#FF97FF\", \"#FECB52\"], \"font\": {\"color\": \"#2a3f5f\"}, \"geo\": {\"bgcolor\": \"white\", \"lakecolor\": \"white\", \"landcolor\": \"#E5ECF6\", \"showlakes\": true, \"showland\": true, \"subunitcolor\": \"white\"}, \"hoverlabel\": {\"align\": \"left\"}, \"hovermode\": \"closest\", \"mapbox\": {\"style\": \"light\"}, \"paper_bgcolor\": \"white\", \"plot_bgcolor\": \"#E5ECF6\", \"polar\": {\"angularaxis\": {\"gridcolor\": \"white\", \"linecolor\": \"white\", \"ticks\": \"\"}, \"bgcolor\": \"#E5ECF6\", \"radialaxis\": {\"gridcolor\": \"white\", \"linecolor\": \"white\", \"ticks\": \"\"}}, \"scene\": {\"xaxis\": {\"backgroundcolor\": \"#E5ECF6\", \"gridcolor\": \"white\", \"gridwidth\": 2, \"linecolor\": \"white\", \"showbackground\": true, \"ticks\": \"\", \"zerolinecolor\": \"white\"}, \"yaxis\": {\"backgroundcolor\": \"#E5ECF6\", \"gridcolor\": \"white\", \"gridwidth\": 2, \"linecolor\": \"white\", \"showbackground\": true, \"ticks\": \"\", \"zerolinecolor\": \"white\"}, \"zaxis\": {\"backgroundcolor\": \"#E5ECF6\", \"gridcolor\": \"white\", \"gridwidth\": 2, \"linecolor\": \"white\", \"showbackground\": true, \"ticks\": \"\", \"zerolinecolor\": \"white\"}}, \"shapedefaults\": {\"line\": {\"color\": \"#2a3f5f\"}}, \"ternary\": {\"aaxis\": {\"gridcolor\": \"white\", \"linecolor\": \"white\", \"ticks\": \"\"}, \"baxis\": {\"gridcolor\": \"white\", \"linecolor\": \"white\", \"ticks\": \"\"}, \"bgcolor\": \"#E5ECF6\", \"caxis\": {\"gridcolor\": \"white\", \"linecolor\": \"white\", \"ticks\": \"\"}}, \"title\": {\"x\": 0.05}, \"xaxis\": {\"automargin\": true, \"gridcolor\": \"white\", \"linecolor\": \"white\", \"ticks\": \"\", \"title\": {\"standoff\": 15}, \"zerolinecolor\": \"white\", \"zerolinewidth\": 2}, \"yaxis\": {\"automargin\": true, \"gridcolor\": \"white\", \"linecolor\": \"white\", \"ticks\": \"\", \"title\": {\"standoff\": 15}, \"zerolinecolor\": \"white\", \"zerolinewidth\": 2}}}, \"title\": {\"text\": \"Confirmed Cases as of June 8, 2020\", \"x\": 0.5}},\n",
       "                        {\"responsive\": true}\n",
       "                    ).then(function(){\n",
       "                            \n",
       "var gd = document.getElementById('e1148631-b0d7-45e0-95ea-4bc96ca3bf28');\n",
       "var x = new MutationObserver(function (mutations, observer) {{\n",
       "        var display = window.getComputedStyle(gd).display;\n",
       "        if (!display || display === 'none') {{\n",
       "            console.log([gd, 'removed!']);\n",
       "            Plotly.purge(gd);\n",
       "            observer.disconnect();\n",
       "        }}\n",
       "}});\n",
       "\n",
       "// Listen for the removal of the full notebook cells\n",
       "var notebookContainer = gd.closest('#notebook-container');\n",
       "if (notebookContainer) {{\n",
       "    x.observe(notebookContainer, {childList: true});\n",
       "}}\n",
       "\n",
       "// Listen for the clearing of the current output cell\n",
       "var outputEl = gd.closest('.output');\n",
       "if (outputEl) {{\n",
       "    x.observe(outputEl, {childList: true});\n",
       "}}\n",
       "\n",
       "                        })\n",
       "                };\n",
       "                });\n",
       "            </script>\n",
       "        </div>"
      ]
     },
     "metadata": {},
     "output_type": "display_data"
    }
   ],
   "source": [
    "# Create the Choropleth\n",
    "fig = go.Figure(data=go.Choropleth(\n",
    "    locations = df_countries['Country'],\n",
    "    locationmode = 'country names',\n",
    "    z = df_countries['Confirmed'],\n",
    "    colorscale = 'Reds',\n",
    "    marker_line_color = 'black',\n",
    "    marker_line_width = 0.5,\n",
    "))\n",
    "fig.update_layout(\n",
    "    title_text = 'Confirmed Cases as of June 8, 2020',\n",
    "    title_x = 0.5,\n",
    "    geo=dict(\n",
    "        showframe = False,\n",
    "        showcoastlines = False,\n",
    "        projection_type = 'equirectangular'\n",
    "    )\n",
    ")\n",
    "\n",
    "fig.show()"
   ]
  },
  {
   "cell_type": "code",
   "execution_count": 8,
   "metadata": {},
   "outputs": [],
   "source": [
    "# Manipulating the original dataframe\n",
    "# df_countrydate = df[df['Confirmed']>0]\n",
    "# df_countrydate = df_countrydate.groupby(['Date','Country']).sum().reset_index()\n",
    "# df_countrydate\n",
    "\n",
    "# # Creating the visualization\n",
    "# fig = px.choropleth(df_countrydate, \n",
    "#                     locations=\"Country\", \n",
    "#                     locationmode = \"country names\",\n",
    "#                     color=\"Confirmed\", \n",
    "#                     hover_name=\"Country\", \n",
    "#                     animation_frame=\"Date\"\n",
    "#                    )\n",
    "# fig.update_layout(\n",
    "#     title_text = 'Global Spread of Coronavirus',\n",
    "#     title_x = 0.5,\n",
    "#     geo=dict(\n",
    "#         showframe = False,\n",
    "#         showcoastlines = False,\n",
    "#     ))\n",
    "    \n",
    "# fig.show()"
   ]
  },
  {
   "cell_type": "code",
   "execution_count": null,
   "metadata": {},
   "outputs": [],
   "source": []
  }
 ],
 "metadata": {
  "kernelspec": {
   "display_name": "Python 3",
   "language": "python",
   "name": "python3"
  },
  "language_info": {
   "codemirror_mode": {
    "name": "ipython",
    "version": 3
   },
   "file_extension": ".py",
   "mimetype": "text/x-python",
   "name": "python",
   "nbconvert_exporter": "python",
   "pygments_lexer": "ipython3",
   "version": "3.7.4"
  }
 },
 "nbformat": 4,
 "nbformat_minor": 2
}
